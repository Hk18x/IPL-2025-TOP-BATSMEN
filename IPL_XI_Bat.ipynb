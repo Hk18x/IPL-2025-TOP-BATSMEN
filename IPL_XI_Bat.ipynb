{
  "nbformat": 4,
  "nbformat_minor": 0,
  "metadata": {
    "colab": {
      "provenance": []
    },
    "kernelspec": {
      "name": "python3",
      "display_name": "Python 3"
    },
    "language_info": {
      "name": "python"
    }
  },
  "cells": [
    {
      "cell_type": "code",
      "execution_count": null,
      "metadata": {
        "id": "QXwsYaZ_TuJC"
      },
      "outputs": [],
      "source": [
        "import pandas as pd\n",
        "import numpy as np\n",
        "import matplotlib.pyplot as plt\n",
        "import seaborn as sns\n",
        "%matplotlib inline"
      ]
    },
    {
      "cell_type": "code",
      "source": [
        "df = pd.read_csv('/ipl_2025_deliveries.csv')"
      ],
      "metadata": {
        "id": "n-HyefngUCn8"
      },
      "execution_count": null,
      "outputs": []
    },
    {
      "cell_type": "code",
      "source": [
        "df.columns"
      ],
      "metadata": {
        "colab": {
          "base_uri": "https://localhost:8080/"
        },
        "id": "ffb4D9NRUCqw",
        "outputId": "d79c1e2a-bb60-444a-9d91-a03574a7484c"
      },
      "execution_count": null,
      "outputs": [
        {
          "output_type": "execute_result",
          "data": {
            "text/plain": [
              "Index(['match_id', 'season', 'phase', 'match_no', 'date', 'venue',\n",
              "       'batting_team', 'bowling_team', 'innings', 'over', 'striker', 'bowler',\n",
              "       'runs_of_bat', 'extras', 'wide', 'legbyes', 'byes', 'noballs',\n",
              "       'wicket_type', 'player_dismissed', 'fielder'],\n",
              "      dtype='object')"
            ]
          },
          "metadata": {},
          "execution_count": 3
        }
      ]
    },
    {
      "cell_type": "code",
      "source": [
        "df['striker'].unique()"
      ],
      "metadata": {
        "colab": {
          "base_uri": "https://localhost:8080/"
        },
        "id": "3hA1sG7FUCtZ",
        "outputId": "8ea46e24-aa59-44aa-98cc-35ae274b6eb6"
      },
      "execution_count": null,
      "outputs": [
        {
          "output_type": "execute_result",
          "data": {
            "text/plain": [
              "array(['de Kock', 'Rahane', 'Narine', 'Venkatesh Iyer',\n",
              "       'Angkrish Raghuvanshi', 'Rinku Singh', 'Russell',\n",
              "       'Ramandeep Singh', 'Harshit Rana', 'Spencer Johnson', 'Phil Salt',\n",
              "       'Kohli', 'Padikkal', 'Rajat Patidar', 'Livingstone',\n",
              "       'Abhishek Sharma', 'Head', 'Ishan Kishan', 'Nitish Reddy',\n",
              "       'Klaasen', 'Aniket Verma', 'Abhinav Manohar', 'Cummins', 'Jaiswal',\n",
              "       'Samson', 'Riyan Parag', 'Nitish Rana', 'Dhruv Jurel',\n",
              "       'Shubham Dubey', 'Hetmyer', 'Jofra Archer', 'Rohit', 'Will Jacks',\n",
              "       'Rickelton', 'Suryakumar Yadav', 'Tilak Varma', 'Robin Minz',\n",
              "       'Naman Dhir', 'Santner', 'Chahar', 'Boult', 'Satyanarayana Raju',\n",
              "       'Ravindra', 'Tripathi', 'Gaikwad', 'Shivam Dube', 'Hooda',\n",
              "       'Sam Curran', 'Jadeja', 'Dhoni', 'Markram', 'Mitchell Marsh',\n",
              "       'Pooran', 'Pant', 'Miller', 'Ayush Badoni', 'Thakur',\n",
              "       'Shahbaz Ahmed', 'Ravi Bishnoi', 'Fraser-McGurk', 'du Plessis',\n",
              "       'Abishek Porel', 'Sameer Rizvi', 'Axar', 'Stubbs',\n",
              "       'Ashutosh Sharma', 'Vipraj Nigam', 'Mitchell Starc',\n",
              "       'Kuldeep Yadav', 'Mohit Sharma', 'Priyansh Arya', 'Prabhsimran',\n",
              "       'Shreyas Iyer', 'Azmatullah', 'Maxwell', 'Stoinis',\n",
              "       'Shashank Singh', 'Sai Sudharsan', 'Shubman Gill', 'Buttler',\n",
              "       'Rutherford', 'Rahul Tewatia', 'Arshad Khan', 'Shahrukh Khan',\n",
              "       'Hasaranga', 'Theekshana', 'Tushar Deshpande', 'Moeen Ali',\n",
              "       'Harshal Patel', 'Shami', 'Simarjeet Singh', 'Abdul Samad',\n",
              "       'Jitesh Sharma', 'Tim David', 'Krunal Pandya', 'Bhuvneshwar',\n",
              "       'Ashwin', 'Noor Ahmad', 'Rabada', 'Rashid Khan', 'Sai Kishore',\n",
              "       'Hardik Pandya', 'Mulder', 'Rahul', 'Kartikeya', 'Shankar',\n",
              "       'Jamie Overton', 'Manish Pandey', 'Avesh Khan', 'Nehal Wadhera',\n",
              "       'Livingstone 1 run', 'Kamindu Mendis', 'Akash Deep', 'Conway',\n",
              "       'Suryansh Shedge', 'Marco Jansen', 'Arshdeep Singh', 'Ferguson',\n",
              "       'Washington Sundar', 'Bumrah', 'Sandeep Sharma', 'Anshul Kamboj',\n",
              "       'Karun Nair', 'Shaik Rasheed', 'Josh Inglis', 'Bartlett',\n",
              "       'Vaibhav Arora', 'Parag', 'Bhandage', 'Yash Dayal', 'Hazlewood',\n",
              "       'Ferreira', 'Vaibhav Suryavanshi', 'Ayush Mhatre', 'Gurbaz',\n",
              "       'Fazalhaq Farooqi', 'Brevis', 'Khaleel Ahmed', 'Corbin Bosch',\n",
              "       'Prince Yadav', 'Digvesh Rathi', 'Chameera', 'Jacob Bethell',\n",
              "       'Powell', 'Anukul Roy', 'Varun Chakaravarthy', 'Akash Madhwal',\n",
              "       'Shepherd', 'KS Rathore', 'Karn Sharma', 'Gerald Coetzee',\n",
              "       'Urvil Patel', 'Mitchell Owen', 'Kwena Maphaka', 'Atharva Taide',\n",
              "       'Madhav Tiwari', 'Mustafizur', 'Mayank Agarawal', 'Ngidi',\n",
              "       'Harpreet Brar', 'Sediqullah Atal', 'Siraj', 'Breetzke',\n",
              "       'Musheer Khan', 'Jamieson', 'Bairstow', 'Kusal Mendis', 'Raj Bawa'],\n",
              "      dtype=object)"
            ]
          },
          "metadata": {},
          "execution_count": 4
        }
      ]
    },
    {
      "cell_type": "code",
      "source": [
        "df['bowler'].unique()"
      ],
      "metadata": {
        "colab": {
          "base_uri": "https://localhost:8080/"
        },
        "id": "-CNm_gZ0UCwV",
        "outputId": "b222e407-5101-44bf-af16-58f19773b61c"
      },
      "execution_count": null,
      "outputs": [
        {
          "output_type": "execute_result",
          "data": {
            "text/plain": [
              "array(['Hazlewood', 'Yash Dayal', 'Rasikh Salam', 'Krunal Pandya',\n",
              "       'Suyash Sharma', 'Livingstone', 'Vaibhav Arora', 'Spencer Johnson',\n",
              "       'Varun Chakaravarthy', 'Harshit Rana', 'Narine',\n",
              "       'Fazalhaq Farooqi', 'Theekshana', 'Jofra Archer', 'Sandeep Sharma',\n",
              "       'Nitish Rana', 'Tushar Deshpande', 'Shami', 'Simarjeet Singh',\n",
              "       'Cummins', 'Abhishek Sharma', 'Zampa', 'Harshal Patel',\n",
              "       'Khaleel Ahmed', 'Sam Curran', 'Nathan Ellis', 'Ashwin', 'Jadeja',\n",
              "       'Noor Ahmad', 'Boult', 'Chahar', 'Satyanarayana Raju', 'Santner',\n",
              "       'Will Jacks', 'Vignesh Puthur', 'Naman Dhir', 'Mitchell Starc',\n",
              "       'Axar', 'Vipraj Nigam', 'Mukesh Kumar', 'Kuldeep Yadav',\n",
              "       'Mohit Sharma', 'Stubbs', 'Thakur', 'M Siddharth', 'Digvesh Rathi',\n",
              "       'Ravi Bishnoi', 'Prince Yadav', 'Shahbaz Ahmed', 'Siraj', 'Rabada',\n",
              "       'Arshad Khan', 'Rashid Khan', 'Prasidh', 'Sai Kishore',\n",
              "       'Arshdeep Singh', 'Azmatullah', 'Marco Jansen', 'Maxwell',\n",
              "       'Stoinis', 'Chahal', 'Vijaykumar Vyshak', 'Moeen Ali',\n",
              "       'Riyan Parag', 'Hasaranga', 'Avesh Khan', 'Ishan Kishan',\n",
              "       'Pathirana', 'Bhuvneshwar', 'Mujeeb', 'Hardik Pandya', 'Ishant',\n",
              "       'Zeeshan Ansari', 'Mulder', 'Jamie Overton', 'Kartikeya',\n",
              "       'Ashwani Kumar', 'Russell', 'Ferguson', 'Abdul Samad',\n",
              "       'Kamindu Mendis', 'Akash Deep', 'Mukesh Choudhary',\n",
              "       'Yudhvir Singh', 'Unadkat', 'Bumrah', 'Yash Thakur', 'Khejroliya',\n",
              "       'Anshul Kamboj', 'Markram', 'Washington Sundar', 'Eshan Malinga',\n",
              "       'Shashank Singh', 'Karn Sharma', 'Nortje', 'Bartlett', 'Sandeep',\n",
              "       'Rahul Chahar', 'Harpreet Brar', 'Shepherd', 'Nehal Wadhera',\n",
              "       'Chameera', 'Sakariya', 'Mayank Yadav', 'Corbin Bosch',\n",
              "       'Karim Janat', 'Anukul Roy', 'Suryansh Shedge', 'Akash Madhwal',\n",
              "       'Gerald Coetzee', 'Ngidi', 'Akash Maharaj Singh', 'T Natarajan',\n",
              "       'Madhav Tiwari', 'Kwena Maphaka', 'Mustafizur', 'Harsh Dubey',\n",
              "       'Nitish Reddy', 'William ORourke', 'Ayush Badoni', 'Praveen Dubey',\n",
              "       'Shahrukh Khan', 'Shivam Dube', 'Hooda', 'Jamieson', 'N Thushara',\n",
              "       'Musheer Khan', 'Richard Gleeson', 'Topley'], dtype=object)"
            ]
          },
          "metadata": {},
          "execution_count": 5
        }
      ]
    },
    {
      "cell_type": "code",
      "source": [
        "df['phase'].unique()"
      ],
      "metadata": {
        "colab": {
          "base_uri": "https://localhost:8080/"
        },
        "id": "nHGrfxVXUCyo",
        "outputId": "3ab16b59-1869-40a8-aa69-5696006e20a0"
      },
      "execution_count": null,
      "outputs": [
        {
          "output_type": "execute_result",
          "data": {
            "text/plain": [
              "array(['Group Stage', 'Qualifier 1', 'Eliminator', 'Qualifier 2', 'Final'],\n",
              "      dtype=object)"
            ]
          },
          "metadata": {},
          "execution_count": 6
        }
      ]
    },
    {
      "cell_type": "code",
      "source": [
        "df['over'].unique()"
      ],
      "metadata": {
        "colab": {
          "base_uri": "https://localhost:8080/"
        },
        "id": "bs2YM_u0UC1k",
        "outputId": "e0228add-1323-42a9-9497-22e92120261e"
      },
      "execution_count": null,
      "outputs": [
        {
          "output_type": "execute_result",
          "data": {
            "text/plain": [
              "array([ 0.1,  0.2,  0.3,  0.4,  0.5,  0.6,  1.1,  1.2,  1.3,  1.4,  1.5,\n",
              "        1.6,  2.1,  2.2,  2.3,  2.4,  2.5,  2.6,  3.1,  3.2,  3.3,  3.4,\n",
              "        3.5,  3.6,  4.1,  4.2,  4.3,  4.4,  4.5,  4.6,  5.1,  5.2,  5.3,\n",
              "        5.4,  5.5,  5.6,  6.1,  6.2,  6.3,  6.4,  6.5,  6.6,  7.1,  7.2,\n",
              "        7.3,  7.4,  7.5,  7.6,  8.1,  8.2,  8.3,  8.4,  8.5,  8.6,  9.1,\n",
              "        9.2,  9.3,  9.4,  9.5,  9.6, 10.1, 10.2, 10.3, 10.4, 10.5, 10.6,\n",
              "       11.1, 11.2, 11.3, 11.4, 11.5, 11.6, 12.1, 12.2, 12.3, 12.4, 12.5,\n",
              "       12.6, 13.1, 13.2, 13.3, 13.4, 13.5, 13.6, 14.1, 14.2, 14.3, 14.4,\n",
              "       14.5, 14.6, 15.1, 15.2, 15.3, 15.4, 15.5, 15.6, 16.1, 16.2, 16.3,\n",
              "       16.4, 16.5, 16.6, 17.1, 17.2, 17.3, 17.4, 17.5, 17.6, 18.1, 18.2,\n",
              "       18.3, 18.4, 18.5, 18.6, 19.1, 19.2, 19.3, 19.4, 19.5, 19.6])"
            ]
          },
          "metadata": {},
          "execution_count": 7
        }
      ]
    },
    {
      "cell_type": "code",
      "source": [
        "df['venue'].unique()"
      ],
      "metadata": {
        "colab": {
          "base_uri": "https://localhost:8080/"
        },
        "id": "8_gIRGV_X0pt",
        "outputId": "983f4943-066b-414b-a983-1a4b200c2111"
      },
      "execution_count": null,
      "outputs": [
        {
          "output_type": "execute_result",
          "data": {
            "text/plain": [
              "array(['Eden Gardens, Kolkata',\n",
              "       'Rajiv Gandhi International Stadium, Hyderabad',\n",
              "       'MA Chidambaram Stadium, Chennai',\n",
              "       'Dr. Y.S. Rajasekhara Reddy ACA-VDCA Cricket Stadium, Visakhapatnam',\n",
              "       'Narendra Modi Stadium, Ahmedabad',\n",
              "       'Barsapara Cricket Stadium, Guwahati', 'Wankhede Stadium, Mumbai',\n",
              "       'Bharat Ratna Shri Atal Bihari Vajpayee Ekana Cricket Stadium, Lucknow',\n",
              "       'M.Chinnaswamy Stadium, Bengaluru',\n",
              "       'Maharaja Yadavindra Singh International Cricket Stadium, Mullanpur, Chandigarh',\n",
              "       'Sawai Mansingh Stadium, Jaipur', 'Arun Jaitley Stadium, Delhi',\n",
              "       'Himachal Pradesh Cricket Association Stadium, Dharamsala',\n",
              "       'Maharaja Yadavindra Singh International Cricket Stadium, Mullanpur, New Chandigarh'],\n",
              "      dtype=object)"
            ]
          },
          "metadata": {},
          "execution_count": 8
        }
      ]
    },
    {
      "cell_type": "code",
      "source": [
        "powerplay_df = df[df['over'] <= 5.6]\n",
        "\n",
        "# Step 1: Venue-wise average powerplay stats\n",
        "venue_stats = powerplay_df.groupby('venue').agg(\n",
        "    venue_avg_runs=('runs_of_bat', 'mean'),\n",
        "    venue_avg_sr=('runs_of_bat', lambda x: (x.sum() / len(x)) * 100)\n",
        ").reset_index()\n",
        "\n",
        "# Step 2: Batsman-wise stats per venue\n",
        "batsman_venue = powerplay_df.groupby(['striker', 'venue']).agg(\n",
        "    runs=('runs_of_bat', 'sum'),\n",
        "    balls=('runs_of_bat', 'count')\n",
        ").reset_index()\n",
        "\n",
        "batsman_venue['sr'] = (batsman_venue['runs'] / batsman_venue['balls']) * 100\n",
        "\n",
        "# Step 3: Merge and compute venue impact\n",
        "batsman_venue = batsman_venue.merge(venue_stats, on='venue', how='left')\n",
        "batsman_venue['venue_impact'] = (\n",
        "    ((batsman_venue['runs'] / batsman_venue['venue_avg_runs'])*2) +\n",
        "    (batsman_venue['sr'] / batsman_venue['venue_avg_sr'])\n",
        ")\n",
        "\n",
        "# Step 4: Average venue impact\n",
        "venue_impact_scores = batsman_venue.groupby('striker')['venue_impact'].mean().reset_index()\n",
        "venue_impact_scores.rename(columns={'venue_impact': 'avg_venue_impact'}, inplace=True)\n",
        "\n",
        "# Step 5: Top powerplay bowlers\n",
        "top_bowlers = ['Hazlewood', 'Boult', 'Khaleel Ahmed', 'Siraj', 'Bhuvneshwar']\n",
        "pp_vs_top_bowlers = powerplay_df[powerplay_df['bowler'].isin(top_bowlers)]\n",
        "\n",
        "# Step 6: Batsman vs top bowlers stats\n",
        "batsman_top_bowlers = pp_vs_top_bowlers.groupby('striker').agg(\n",
        "    runs_vs_top=('runs_of_bat', 'sum'),\n",
        "    balls_vs_top=('runs_of_bat', 'count')\n",
        ").reset_index()\n",
        "\n",
        "batsman_top_bowlers['sr_vs_top'] = (batsman_top_bowlers['runs_vs_top'] / batsman_top_bowlers['balls_vs_top']) * 100\n",
        "batsman_top_bowlers['vs_top_impact'] = ((batsman_top_bowlers['runs_vs_top']*2) + batsman_top_bowlers['sr_vs_top'])\n",
        "# Step 8: Combine venue impact and top bowler impact\n",
        "final_scores = venue_impact_scores.merge(batsman_top_bowlers[['striker', 'vs_top_impact']], on='striker', how='inner')\n",
        "\n",
        "# Step 9: Powerplay Mastery Index (PMI)\n",
        "final_scores['PMI'] = final_scores['avg_venue_impact'] * 0.8 + final_scores['vs_top_impact'] * 0.2\n",
        "\n",
        "# Step 10: Top 5 batsmen\n",
        "top_10_batsmen = final_scores.sort_values('PMI', ascending=False).head(10)\n",
        "print(top_10_batsmen[['striker', 'PMI']])"
      ],
      "metadata": {
        "colab": {
          "base_uri": "https://localhost:8080/"
        },
        "id": "6DGXqZtNX1Pt",
        "outputId": "0d54380f-0802-4328-d3dc-d65eebdca18b"
      },
      "execution_count": null,
      "outputs": [
        {
          "output_type": "stream",
          "name": "stdout",
          "text": [
            "          striker         PMI\n",
            "15        Jaiswal  129.510092\n",
            "33  Priyansh Arya  123.196297\n",
            "19          Kohli  102.859768\n",
            "32    Prabhsimran   99.751351\n",
            "34         Rahane   93.574434\n",
            "20   Kusal Mendis   93.234043\n",
            "40          Rohit   92.020756\n",
            "4    Ayush Mhatre   91.861444\n",
            "38      Rickelton   90.682229\n",
            "42  Sai Sudharsan   90.372307\n"
          ]
        }
      ]
    },
    {
      "cell_type": "code",
      "source": [
        "middle_df = df[(df['over'] > 5.6) & (df['over'] <= 15.6)]\n",
        "\n",
        "batsman_overall = middle_df.groupby(['striker']).agg(\n",
        "    runs=('runs_of_bat', 'sum'),\n",
        "    balls=('runs_of_bat', 'count')\n",
        ").reset_index()\n",
        "\n",
        "batsman_overall['sr'] = (batsman_overall['runs'] / batsman_overall['balls']) * 100\n",
        "batsman_overall['overall_impact'] = ((batsman_overall['runs']*2) + batsman_overall['sr'])\n",
        "\n",
        "\n",
        "# Step 1: Venue-wise average middle overs stats\n",
        "venue_stats = middle_df.groupby('venue').agg(\n",
        "    venue_avg_runs=('runs_of_bat', 'mean'),\n",
        "    venue_avg_sr=('runs_of_bat', lambda x: (x.sum() / len(x)) * 100)\n",
        ").reset_index()\n",
        "\n",
        "# Step 2: Batsman-wise stats per venue\n",
        "batsman_venue = middle_df.groupby(['striker', 'venue']).agg(\n",
        "    runs=('runs_of_bat', 'sum'),\n",
        "    balls=('runs_of_bat', 'count')\n",
        ").reset_index()\n",
        "\n",
        "batsman_venue['sr'] = (batsman_venue['runs'] / batsman_venue['balls']) * 100\n",
        "\n",
        "# Step 3: Merge and compute venue impact\n",
        "batsman_venue = batsman_venue.merge(venue_stats, on='venue', how='left')\n",
        "batsman_venue['venue_impact'] = (\n",
        "    ((batsman_venue['runs'] / batsman_venue['venue_avg_runs'])) +\n",
        "    (batsman_venue['sr'] / batsman_venue['venue_avg_sr'])\n",
        ")\n",
        "\n",
        "# Step 4: Average venue impact\n",
        "venue_impact_scores = batsman_venue.groupby('striker')['venue_impact'].mean().reset_index()\n",
        "venue_impact_scores.rename(columns={'venue_impact': 'avg_venue_impact'}, inplace=True)\n",
        "\n",
        "# Step 5: Top middle overs bowlers\n",
        "top_bowlers = ['Noor Ahmad', 'Krunal Pandya', 'Kuldeep Yadav', 'Sai Kishore', 'Varun Chakaravarth']\n",
        "mo_vs_top_bowlers = middle_df[middle_df['bowler'].isin(top_bowlers)]\n",
        "\n",
        "# Step 6: Batsman vs top bowlers stats\n",
        "batsman_top_bowlers = mo_vs_top_bowlers.groupby('striker').agg(\n",
        "    runs_vs_top=('runs_of_bat', 'sum'),\n",
        "    balls_vs_top=('runs_of_bat', 'count')\n",
        ").reset_index()\n",
        "\n",
        "batsman_top_bowlers['sr_vs_top'] = (batsman_top_bowlers['runs_vs_top'] / batsman_top_bowlers['balls_vs_top']) * 100\n",
        "batsman_top_bowlers['vs_top_impact'] = ((batsman_top_bowlers['runs_vs_top']*2) + batsman_top_bowlers['sr_vs_top'])\n",
        "\n",
        "# Step 8: Combine venue impact and top bowler impact\n",
        "final_scores = venue_impact_scores.merge(batsman_top_bowlers[['striker', 'vs_top_impact']], on='striker', how='inner').merge(\n",
        "    batsman_overall[['striker', 'overall_impact']],\n",
        "    on='striker',\n",
        "    how='inner'\n",
        ")\n",
        "\n",
        "# Step 9: Middle Overs Mastery Index (PMI)\n",
        "final_scores['MMI'] = final_scores['overall_impact']*0.5 + final_scores['avg_venue_impact'] * 0.3 + final_scores['vs_top_impact'] * 0.2\n",
        "\n",
        "\n",
        "top_10_batsmen = final_scores.sort_values('MMI', ascending=False).head(20)\n",
        "top_10_batsmen[['striker', 'MMI']]"
      ],
      "metadata": {
        "colab": {
          "base_uri": "https://localhost:8080/",
          "height": 676
        },
        "id": "aUO-h6GyUC-k",
        "outputId": "24fcfb8b-f535-4199-9272-f5f8c17b9760"
      },
      "execution_count": null,
      "outputs": [
        {
          "output_type": "execute_result",
          "data": {
            "text/plain": [
              "             striker         MMI\n",
              "75  Suryakumar Yadav  728.382410\n",
              "48            Pooran  509.784883\n",
              "71      Shreyas Iyer  494.147375\n",
              "12           Buttler  492.615623\n",
              "29           Klaasen  457.226794\n",
              "72      Shubman Gill  452.468446\n",
              "43     Nehal Wadhera  440.554646\n",
              "39    Mitchell Marsh  438.492500\n",
              "52             Rahul  438.066351\n",
              "64     Sai Sudharsan  432.688339\n",
              "30             Kohli  419.380914\n",
              "58       Riyan Parag  390.882923\n",
              "70       Shivam Dube  371.045019\n",
              "76       Tilak Varma  353.959484\n",
              "54     Rajat Patidar  352.132031\n",
              "49       Prabhsimran  342.740020\n",
              "7               Axar  329.143128\n",
              "62        Rutherford  320.643429\n",
              "50     Priyansh Arya  314.787629\n",
              "22      Ishan Kishan  314.101360"
            ],
            "text/html": [
              "\n",
              "  <div id=\"df-71e2f361-577d-4d74-9a70-90631eee4b90\" class=\"colab-df-container\">\n",
              "    <div>\n",
              "<style scoped>\n",
              "    .dataframe tbody tr th:only-of-type {\n",
              "        vertical-align: middle;\n",
              "    }\n",
              "\n",
              "    .dataframe tbody tr th {\n",
              "        vertical-align: top;\n",
              "    }\n",
              "\n",
              "    .dataframe thead th {\n",
              "        text-align: right;\n",
              "    }\n",
              "</style>\n",
              "<table border=\"1\" class=\"dataframe\">\n",
              "  <thead>\n",
              "    <tr style=\"text-align: right;\">\n",
              "      <th></th>\n",
              "      <th>striker</th>\n",
              "      <th>MMI</th>\n",
              "    </tr>\n",
              "  </thead>\n",
              "  <tbody>\n",
              "    <tr>\n",
              "      <th>75</th>\n",
              "      <td>Suryakumar Yadav</td>\n",
              "      <td>728.382410</td>\n",
              "    </tr>\n",
              "    <tr>\n",
              "      <th>48</th>\n",
              "      <td>Pooran</td>\n",
              "      <td>509.784883</td>\n",
              "    </tr>\n",
              "    <tr>\n",
              "      <th>71</th>\n",
              "      <td>Shreyas Iyer</td>\n",
              "      <td>494.147375</td>\n",
              "    </tr>\n",
              "    <tr>\n",
              "      <th>12</th>\n",
              "      <td>Buttler</td>\n",
              "      <td>492.615623</td>\n",
              "    </tr>\n",
              "    <tr>\n",
              "      <th>29</th>\n",
              "      <td>Klaasen</td>\n",
              "      <td>457.226794</td>\n",
              "    </tr>\n",
              "    <tr>\n",
              "      <th>72</th>\n",
              "      <td>Shubman Gill</td>\n",
              "      <td>452.468446</td>\n",
              "    </tr>\n",
              "    <tr>\n",
              "      <th>43</th>\n",
              "      <td>Nehal Wadhera</td>\n",
              "      <td>440.554646</td>\n",
              "    </tr>\n",
              "    <tr>\n",
              "      <th>39</th>\n",
              "      <td>Mitchell Marsh</td>\n",
              "      <td>438.492500</td>\n",
              "    </tr>\n",
              "    <tr>\n",
              "      <th>52</th>\n",
              "      <td>Rahul</td>\n",
              "      <td>438.066351</td>\n",
              "    </tr>\n",
              "    <tr>\n",
              "      <th>64</th>\n",
              "      <td>Sai Sudharsan</td>\n",
              "      <td>432.688339</td>\n",
              "    </tr>\n",
              "    <tr>\n",
              "      <th>30</th>\n",
              "      <td>Kohli</td>\n",
              "      <td>419.380914</td>\n",
              "    </tr>\n",
              "    <tr>\n",
              "      <th>58</th>\n",
              "      <td>Riyan Parag</td>\n",
              "      <td>390.882923</td>\n",
              "    </tr>\n",
              "    <tr>\n",
              "      <th>70</th>\n",
              "      <td>Shivam Dube</td>\n",
              "      <td>371.045019</td>\n",
              "    </tr>\n",
              "    <tr>\n",
              "      <th>76</th>\n",
              "      <td>Tilak Varma</td>\n",
              "      <td>353.959484</td>\n",
              "    </tr>\n",
              "    <tr>\n",
              "      <th>54</th>\n",
              "      <td>Rajat Patidar</td>\n",
              "      <td>352.132031</td>\n",
              "    </tr>\n",
              "    <tr>\n",
              "      <th>49</th>\n",
              "      <td>Prabhsimran</td>\n",
              "      <td>342.740020</td>\n",
              "    </tr>\n",
              "    <tr>\n",
              "      <th>7</th>\n",
              "      <td>Axar</td>\n",
              "      <td>329.143128</td>\n",
              "    </tr>\n",
              "    <tr>\n",
              "      <th>62</th>\n",
              "      <td>Rutherford</td>\n",
              "      <td>320.643429</td>\n",
              "    </tr>\n",
              "    <tr>\n",
              "      <th>50</th>\n",
              "      <td>Priyansh Arya</td>\n",
              "      <td>314.787629</td>\n",
              "    </tr>\n",
              "    <tr>\n",
              "      <th>22</th>\n",
              "      <td>Ishan Kishan</td>\n",
              "      <td>314.101360</td>\n",
              "    </tr>\n",
              "  </tbody>\n",
              "</table>\n",
              "</div>\n",
              "    <div class=\"colab-df-buttons\">\n",
              "\n",
              "  <div class=\"colab-df-container\">\n",
              "    <button class=\"colab-df-convert\" onclick=\"convertToInteractive('df-71e2f361-577d-4d74-9a70-90631eee4b90')\"\n",
              "            title=\"Convert this dataframe to an interactive table.\"\n",
              "            style=\"display:none;\">\n",
              "\n",
              "  <svg xmlns=\"http://www.w3.org/2000/svg\" height=\"24px\" viewBox=\"0 -960 960 960\">\n",
              "    <path d=\"M120-120v-720h720v720H120Zm60-500h600v-160H180v160Zm220 220h160v-160H400v160Zm0 220h160v-160H400v160ZM180-400h160v-160H180v160Zm440 0h160v-160H620v160ZM180-180h160v-160H180v160Zm440 0h160v-160H620v160Z\"/>\n",
              "  </svg>\n",
              "    </button>\n",
              "\n",
              "  <style>\n",
              "    .colab-df-container {\n",
              "      display:flex;\n",
              "      gap: 12px;\n",
              "    }\n",
              "\n",
              "    .colab-df-convert {\n",
              "      background-color: #E8F0FE;\n",
              "      border: none;\n",
              "      border-radius: 50%;\n",
              "      cursor: pointer;\n",
              "      display: none;\n",
              "      fill: #1967D2;\n",
              "      height: 32px;\n",
              "      padding: 0 0 0 0;\n",
              "      width: 32px;\n",
              "    }\n",
              "\n",
              "    .colab-df-convert:hover {\n",
              "      background-color: #E2EBFA;\n",
              "      box-shadow: 0px 1px 2px rgba(60, 64, 67, 0.3), 0px 1px 3px 1px rgba(60, 64, 67, 0.15);\n",
              "      fill: #174EA6;\n",
              "    }\n",
              "\n",
              "    .colab-df-buttons div {\n",
              "      margin-bottom: 4px;\n",
              "    }\n",
              "\n",
              "    [theme=dark] .colab-df-convert {\n",
              "      background-color: #3B4455;\n",
              "      fill: #D2E3FC;\n",
              "    }\n",
              "\n",
              "    [theme=dark] .colab-df-convert:hover {\n",
              "      background-color: #434B5C;\n",
              "      box-shadow: 0px 1px 3px 1px rgba(0, 0, 0, 0.15);\n",
              "      filter: drop-shadow(0px 1px 2px rgba(0, 0, 0, 0.3));\n",
              "      fill: #FFFFFF;\n",
              "    }\n",
              "  </style>\n",
              "\n",
              "    <script>\n",
              "      const buttonEl =\n",
              "        document.querySelector('#df-71e2f361-577d-4d74-9a70-90631eee4b90 button.colab-df-convert');\n",
              "      buttonEl.style.display =\n",
              "        google.colab.kernel.accessAllowed ? 'block' : 'none';\n",
              "\n",
              "      async function convertToInteractive(key) {\n",
              "        const element = document.querySelector('#df-71e2f361-577d-4d74-9a70-90631eee4b90');\n",
              "        const dataTable =\n",
              "          await google.colab.kernel.invokeFunction('convertToInteractive',\n",
              "                                                    [key], {});\n",
              "        if (!dataTable) return;\n",
              "\n",
              "        const docLinkHtml = 'Like what you see? Visit the ' +\n",
              "          '<a target=\"_blank\" href=https://colab.research.google.com/notebooks/data_table.ipynb>data table notebook</a>'\n",
              "          + ' to learn more about interactive tables.';\n",
              "        element.innerHTML = '';\n",
              "        dataTable['output_type'] = 'display_data';\n",
              "        await google.colab.output.renderOutput(dataTable, element);\n",
              "        const docLink = document.createElement('div');\n",
              "        docLink.innerHTML = docLinkHtml;\n",
              "        element.appendChild(docLink);\n",
              "      }\n",
              "    </script>\n",
              "  </div>\n",
              "\n",
              "\n",
              "    <div id=\"df-c0bc800d-dae4-4dfd-8137-14bdb5972273\">\n",
              "      <button class=\"colab-df-quickchart\" onclick=\"quickchart('df-c0bc800d-dae4-4dfd-8137-14bdb5972273')\"\n",
              "                title=\"Suggest charts\"\n",
              "                style=\"display:none;\">\n",
              "\n",
              "<svg xmlns=\"http://www.w3.org/2000/svg\" height=\"24px\"viewBox=\"0 0 24 24\"\n",
              "     width=\"24px\">\n",
              "    <g>\n",
              "        <path d=\"M19 3H5c-1.1 0-2 .9-2 2v14c0 1.1.9 2 2 2h14c1.1 0 2-.9 2-2V5c0-1.1-.9-2-2-2zM9 17H7v-7h2v7zm4 0h-2V7h2v10zm4 0h-2v-4h2v4z\"/>\n",
              "    </g>\n",
              "</svg>\n",
              "      </button>\n",
              "\n",
              "<style>\n",
              "  .colab-df-quickchart {\n",
              "      --bg-color: #E8F0FE;\n",
              "      --fill-color: #1967D2;\n",
              "      --hover-bg-color: #E2EBFA;\n",
              "      --hover-fill-color: #174EA6;\n",
              "      --disabled-fill-color: #AAA;\n",
              "      --disabled-bg-color: #DDD;\n",
              "  }\n",
              "\n",
              "  [theme=dark] .colab-df-quickchart {\n",
              "      --bg-color: #3B4455;\n",
              "      --fill-color: #D2E3FC;\n",
              "      --hover-bg-color: #434B5C;\n",
              "      --hover-fill-color: #FFFFFF;\n",
              "      --disabled-bg-color: #3B4455;\n",
              "      --disabled-fill-color: #666;\n",
              "  }\n",
              "\n",
              "  .colab-df-quickchart {\n",
              "    background-color: var(--bg-color);\n",
              "    border: none;\n",
              "    border-radius: 50%;\n",
              "    cursor: pointer;\n",
              "    display: none;\n",
              "    fill: var(--fill-color);\n",
              "    height: 32px;\n",
              "    padding: 0;\n",
              "    width: 32px;\n",
              "  }\n",
              "\n",
              "  .colab-df-quickchart:hover {\n",
              "    background-color: var(--hover-bg-color);\n",
              "    box-shadow: 0 1px 2px rgba(60, 64, 67, 0.3), 0 1px 3px 1px rgba(60, 64, 67, 0.15);\n",
              "    fill: var(--button-hover-fill-color);\n",
              "  }\n",
              "\n",
              "  .colab-df-quickchart-complete:disabled,\n",
              "  .colab-df-quickchart-complete:disabled:hover {\n",
              "    background-color: var(--disabled-bg-color);\n",
              "    fill: var(--disabled-fill-color);\n",
              "    box-shadow: none;\n",
              "  }\n",
              "\n",
              "  .colab-df-spinner {\n",
              "    border: 2px solid var(--fill-color);\n",
              "    border-color: transparent;\n",
              "    border-bottom-color: var(--fill-color);\n",
              "    animation:\n",
              "      spin 1s steps(1) infinite;\n",
              "  }\n",
              "\n",
              "  @keyframes spin {\n",
              "    0% {\n",
              "      border-color: transparent;\n",
              "      border-bottom-color: var(--fill-color);\n",
              "      border-left-color: var(--fill-color);\n",
              "    }\n",
              "    20% {\n",
              "      border-color: transparent;\n",
              "      border-left-color: var(--fill-color);\n",
              "      border-top-color: var(--fill-color);\n",
              "    }\n",
              "    30% {\n",
              "      border-color: transparent;\n",
              "      border-left-color: var(--fill-color);\n",
              "      border-top-color: var(--fill-color);\n",
              "      border-right-color: var(--fill-color);\n",
              "    }\n",
              "    40% {\n",
              "      border-color: transparent;\n",
              "      border-right-color: var(--fill-color);\n",
              "      border-top-color: var(--fill-color);\n",
              "    }\n",
              "    60% {\n",
              "      border-color: transparent;\n",
              "      border-right-color: var(--fill-color);\n",
              "    }\n",
              "    80% {\n",
              "      border-color: transparent;\n",
              "      border-right-color: var(--fill-color);\n",
              "      border-bottom-color: var(--fill-color);\n",
              "    }\n",
              "    90% {\n",
              "      border-color: transparent;\n",
              "      border-bottom-color: var(--fill-color);\n",
              "    }\n",
              "  }\n",
              "</style>\n",
              "\n",
              "      <script>\n",
              "        async function quickchart(key) {\n",
              "          const quickchartButtonEl =\n",
              "            document.querySelector('#' + key + ' button');\n",
              "          quickchartButtonEl.disabled = true;  // To prevent multiple clicks.\n",
              "          quickchartButtonEl.classList.add('colab-df-spinner');\n",
              "          try {\n",
              "            const charts = await google.colab.kernel.invokeFunction(\n",
              "                'suggestCharts', [key], {});\n",
              "          } catch (error) {\n",
              "            console.error('Error during call to suggestCharts:', error);\n",
              "          }\n",
              "          quickchartButtonEl.classList.remove('colab-df-spinner');\n",
              "          quickchartButtonEl.classList.add('colab-df-quickchart-complete');\n",
              "        }\n",
              "        (() => {\n",
              "          let quickchartButtonEl =\n",
              "            document.querySelector('#df-c0bc800d-dae4-4dfd-8137-14bdb5972273 button');\n",
              "          quickchartButtonEl.style.display =\n",
              "            google.colab.kernel.accessAllowed ? 'block' : 'none';\n",
              "        })();\n",
              "      </script>\n",
              "    </div>\n",
              "\n",
              "    </div>\n",
              "  </div>\n"
            ],
            "application/vnd.google.colaboratory.intrinsic+json": {
              "type": "dataframe",
              "summary": "{\n  \"name\": \"top_10_batsmen[['striker', 'MMI']]\",\n  \"rows\": 20,\n  \"fields\": [\n    {\n      \"column\": \"striker\",\n      \"properties\": {\n        \"dtype\": \"string\",\n        \"num_unique_values\": 20,\n        \"samples\": [\n          \"Suryakumar Yadav\",\n          \"Rutherford\",\n          \"Prabhsimran\"\n        ],\n        \"semantic_type\": \"\",\n        \"description\": \"\"\n      }\n    },\n    {\n      \"column\": \"MMI\",\n      \"properties\": {\n        \"dtype\": \"number\",\n        \"std\": 96.3037026511614,\n        \"min\": 314.10136024321025,\n        \"max\": 728.3824101454347,\n        \"num_unique_values\": 20,\n        \"samples\": [\n          728.3824101454347,\n          320.6434293778707,\n          342.74002041759906\n        ],\n        \"semantic_type\": \"\",\n        \"description\": \"\"\n      }\n    }\n  ]\n}"
            }
          },
          "metadata": {},
          "execution_count": 13
        }
      ]
    },
    {
      "cell_type": "code",
      "source": [
        "death_df = df[(df['over'] > 15.6) & (df['over'] <= 19.6)]\n",
        "\n",
        "# Step 2: Batsman-wise stats per venue\n",
        "batsman_venue = death_df.groupby(['striker']).agg(\n",
        "    runs=('runs_of_bat', 'sum'),\n",
        "    balls=('runs_of_bat', 'count')\n",
        ").reset_index()\n",
        "\n",
        "batsman_venue['sr'] = (batsman_venue['runs'] / batsman_venue['balls']) * 100\n",
        "batsman_venue['death_impact'] = ((batsman_venue['runs']*3) + batsman_venue['sr'])\n",
        "\n",
        "\n",
        "# Step 5: Top death overs bowlers\n",
        "top_bowlers = ['Prasidh', 'Boult', 'Arshdeep Singh', 'Pathirana', 'Bumrah']\n",
        "mo_vs_top_bowlers = death_df[death_df['bowler'].isin(top_bowlers)]\n",
        "\n",
        "# Step 6: Batsman vs top bowlers stats\n",
        "batsman_top_bowlers = mo_vs_top_bowlers.groupby('striker').agg(\n",
        "    runs_vs_top=('runs_of_bat', 'sum'),\n",
        "    balls_vs_top=('runs_of_bat', 'count')\n",
        ").reset_index()\n",
        "\n",
        "batsman_top_bowlers['sr_vs_top'] = (batsman_top_bowlers['runs_vs_top'] / batsman_top_bowlers['balls_vs_top']) * 100\n",
        "\n",
        "batsman_top_bowlers['vs_top_impact'] = ((batsman_top_bowlers['runs_vs_top']*3) + batsman_top_bowlers['sr_vs_top'])\n",
        "\n",
        "# Step 8: Combine venue impact and top bowler impact\n",
        "final_scores = batsman_venue.merge(batsman_top_bowlers[['striker', 'vs_top_impact']], on='striker', how='inner')\n",
        "\n",
        "# Step 9: DEATH Overs Mastery Index (PMI)\n",
        "final_scores['DDI'] = final_scores['death_impact'] * 0.7 + final_scores['vs_top_impact'] * 0.3\n",
        "\n",
        "\n",
        "top_10_batsmen = final_scores.sort_values('DDI', ascending=False)\n",
        "top_10_batsmen"
      ],
      "metadata": {
        "colab": {
          "base_uri": "https://localhost:8080/",
          "height": 423
        },
        "id": "UxOZcqH0UDBV",
        "outputId": "f46e352d-9d2d-47ad-a4ea-3f8bd642d07b"
      },
      "execution_count": null,
      "outputs": [
        {
          "output_type": "execute_result",
          "data": {
            "text/plain": [
              "           striker  runs  balls          sr  death_impact  vs_top_impact  \\\n",
              "69    Shreyas Iyer   149     63  236.507937    683.507937     435.740741   \n",
              "41      Naman Dhir   173     86  201.162791    720.162791     322.263158   \n",
              "66  Shashank Singh   202    106  190.566038    796.566038     108.818182   \n",
              "17     Dhruv Jurel   133     69  192.753623    591.753623     310.000000   \n",
              "16           Dhoni   156     99  157.575758    625.575758     197.555556   \n",
              "..             ...   ...    ...         ...           ...            ...   \n",
              "19        Ferreira     1      3   33.333333     36.333333       0.000000   \n",
              "39    Mohit Sharma     1      3   33.333333     36.333333       0.000000   \n",
              "40      Mustafizur     0      1    0.000000      0.000000       0.000000   \n",
              "38       Moeen Ali     0      2    0.000000      0.000000       0.000000   \n",
              "57           Rohit     0      2    0.000000      0.000000       0.000000   \n",
              "\n",
              "           DDI  \n",
              "69  609.177778  \n",
              "41  600.792901  \n",
              "66  590.241681  \n",
              "17  507.227536  \n",
              "16  497.169697  \n",
              "..         ...  \n",
              "19   25.433333  \n",
              "39   25.433333  \n",
              "40    0.000000  \n",
              "38    0.000000  \n",
              "57    0.000000  \n",
              "\n",
              "[82 rows x 7 columns]"
            ],
            "text/html": [
              "\n",
              "  <div id=\"df-452cf81d-7a15-4510-90cd-fa5c2a16954f\" class=\"colab-df-container\">\n",
              "    <div>\n",
              "<style scoped>\n",
              "    .dataframe tbody tr th:only-of-type {\n",
              "        vertical-align: middle;\n",
              "    }\n",
              "\n",
              "    .dataframe tbody tr th {\n",
              "        vertical-align: top;\n",
              "    }\n",
              "\n",
              "    .dataframe thead th {\n",
              "        text-align: right;\n",
              "    }\n",
              "</style>\n",
              "<table border=\"1\" class=\"dataframe\">\n",
              "  <thead>\n",
              "    <tr style=\"text-align: right;\">\n",
              "      <th></th>\n",
              "      <th>striker</th>\n",
              "      <th>runs</th>\n",
              "      <th>balls</th>\n",
              "      <th>sr</th>\n",
              "      <th>death_impact</th>\n",
              "      <th>vs_top_impact</th>\n",
              "      <th>DDI</th>\n",
              "    </tr>\n",
              "  </thead>\n",
              "  <tbody>\n",
              "    <tr>\n",
              "      <th>69</th>\n",
              "      <td>Shreyas Iyer</td>\n",
              "      <td>149</td>\n",
              "      <td>63</td>\n",
              "      <td>236.507937</td>\n",
              "      <td>683.507937</td>\n",
              "      <td>435.740741</td>\n",
              "      <td>609.177778</td>\n",
              "    </tr>\n",
              "    <tr>\n",
              "      <th>41</th>\n",
              "      <td>Naman Dhir</td>\n",
              "      <td>173</td>\n",
              "      <td>86</td>\n",
              "      <td>201.162791</td>\n",
              "      <td>720.162791</td>\n",
              "      <td>322.263158</td>\n",
              "      <td>600.792901</td>\n",
              "    </tr>\n",
              "    <tr>\n",
              "      <th>66</th>\n",
              "      <td>Shashank Singh</td>\n",
              "      <td>202</td>\n",
              "      <td>106</td>\n",
              "      <td>190.566038</td>\n",
              "      <td>796.566038</td>\n",
              "      <td>108.818182</td>\n",
              "      <td>590.241681</td>\n",
              "    </tr>\n",
              "    <tr>\n",
              "      <th>17</th>\n",
              "      <td>Dhruv Jurel</td>\n",
              "      <td>133</td>\n",
              "      <td>69</td>\n",
              "      <td>192.753623</td>\n",
              "      <td>591.753623</td>\n",
              "      <td>310.000000</td>\n",
              "      <td>507.227536</td>\n",
              "    </tr>\n",
              "    <tr>\n",
              "      <th>16</th>\n",
              "      <td>Dhoni</td>\n",
              "      <td>156</td>\n",
              "      <td>99</td>\n",
              "      <td>157.575758</td>\n",
              "      <td>625.575758</td>\n",
              "      <td>197.555556</td>\n",
              "      <td>497.169697</td>\n",
              "    </tr>\n",
              "    <tr>\n",
              "      <th>...</th>\n",
              "      <td>...</td>\n",
              "      <td>...</td>\n",
              "      <td>...</td>\n",
              "      <td>...</td>\n",
              "      <td>...</td>\n",
              "      <td>...</td>\n",
              "      <td>...</td>\n",
              "    </tr>\n",
              "    <tr>\n",
              "      <th>19</th>\n",
              "      <td>Ferreira</td>\n",
              "      <td>1</td>\n",
              "      <td>3</td>\n",
              "      <td>33.333333</td>\n",
              "      <td>36.333333</td>\n",
              "      <td>0.000000</td>\n",
              "      <td>25.433333</td>\n",
              "    </tr>\n",
              "    <tr>\n",
              "      <th>39</th>\n",
              "      <td>Mohit Sharma</td>\n",
              "      <td>1</td>\n",
              "      <td>3</td>\n",
              "      <td>33.333333</td>\n",
              "      <td>36.333333</td>\n",
              "      <td>0.000000</td>\n",
              "      <td>25.433333</td>\n",
              "    </tr>\n",
              "    <tr>\n",
              "      <th>40</th>\n",
              "      <td>Mustafizur</td>\n",
              "      <td>0</td>\n",
              "      <td>1</td>\n",
              "      <td>0.000000</td>\n",
              "      <td>0.000000</td>\n",
              "      <td>0.000000</td>\n",
              "      <td>0.000000</td>\n",
              "    </tr>\n",
              "    <tr>\n",
              "      <th>38</th>\n",
              "      <td>Moeen Ali</td>\n",
              "      <td>0</td>\n",
              "      <td>2</td>\n",
              "      <td>0.000000</td>\n",
              "      <td>0.000000</td>\n",
              "      <td>0.000000</td>\n",
              "      <td>0.000000</td>\n",
              "    </tr>\n",
              "    <tr>\n",
              "      <th>57</th>\n",
              "      <td>Rohit</td>\n",
              "      <td>0</td>\n",
              "      <td>2</td>\n",
              "      <td>0.000000</td>\n",
              "      <td>0.000000</td>\n",
              "      <td>0.000000</td>\n",
              "      <td>0.000000</td>\n",
              "    </tr>\n",
              "  </tbody>\n",
              "</table>\n",
              "<p>82 rows × 7 columns</p>\n",
              "</div>\n",
              "    <div class=\"colab-df-buttons\">\n",
              "\n",
              "  <div class=\"colab-df-container\">\n",
              "    <button class=\"colab-df-convert\" onclick=\"convertToInteractive('df-452cf81d-7a15-4510-90cd-fa5c2a16954f')\"\n",
              "            title=\"Convert this dataframe to an interactive table.\"\n",
              "            style=\"display:none;\">\n",
              "\n",
              "  <svg xmlns=\"http://www.w3.org/2000/svg\" height=\"24px\" viewBox=\"0 -960 960 960\">\n",
              "    <path d=\"M120-120v-720h720v720H120Zm60-500h600v-160H180v160Zm220 220h160v-160H400v160Zm0 220h160v-160H400v160ZM180-400h160v-160H180v160Zm440 0h160v-160H620v160ZM180-180h160v-160H180v160Zm440 0h160v-160H620v160Z\"/>\n",
              "  </svg>\n",
              "    </button>\n",
              "\n",
              "  <style>\n",
              "    .colab-df-container {\n",
              "      display:flex;\n",
              "      gap: 12px;\n",
              "    }\n",
              "\n",
              "    .colab-df-convert {\n",
              "      background-color: #E8F0FE;\n",
              "      border: none;\n",
              "      border-radius: 50%;\n",
              "      cursor: pointer;\n",
              "      display: none;\n",
              "      fill: #1967D2;\n",
              "      height: 32px;\n",
              "      padding: 0 0 0 0;\n",
              "      width: 32px;\n",
              "    }\n",
              "\n",
              "    .colab-df-convert:hover {\n",
              "      background-color: #E2EBFA;\n",
              "      box-shadow: 0px 1px 2px rgba(60, 64, 67, 0.3), 0px 1px 3px 1px rgba(60, 64, 67, 0.15);\n",
              "      fill: #174EA6;\n",
              "    }\n",
              "\n",
              "    .colab-df-buttons div {\n",
              "      margin-bottom: 4px;\n",
              "    }\n",
              "\n",
              "    [theme=dark] .colab-df-convert {\n",
              "      background-color: #3B4455;\n",
              "      fill: #D2E3FC;\n",
              "    }\n",
              "\n",
              "    [theme=dark] .colab-df-convert:hover {\n",
              "      background-color: #434B5C;\n",
              "      box-shadow: 0px 1px 3px 1px rgba(0, 0, 0, 0.15);\n",
              "      filter: drop-shadow(0px 1px 2px rgba(0, 0, 0, 0.3));\n",
              "      fill: #FFFFFF;\n",
              "    }\n",
              "  </style>\n",
              "\n",
              "    <script>\n",
              "      const buttonEl =\n",
              "        document.querySelector('#df-452cf81d-7a15-4510-90cd-fa5c2a16954f button.colab-df-convert');\n",
              "      buttonEl.style.display =\n",
              "        google.colab.kernel.accessAllowed ? 'block' : 'none';\n",
              "\n",
              "      async function convertToInteractive(key) {\n",
              "        const element = document.querySelector('#df-452cf81d-7a15-4510-90cd-fa5c2a16954f');\n",
              "        const dataTable =\n",
              "          await google.colab.kernel.invokeFunction('convertToInteractive',\n",
              "                                                    [key], {});\n",
              "        if (!dataTable) return;\n",
              "\n",
              "        const docLinkHtml = 'Like what you see? Visit the ' +\n",
              "          '<a target=\"_blank\" href=https://colab.research.google.com/notebooks/data_table.ipynb>data table notebook</a>'\n",
              "          + ' to learn more about interactive tables.';\n",
              "        element.innerHTML = '';\n",
              "        dataTable['output_type'] = 'display_data';\n",
              "        await google.colab.output.renderOutput(dataTable, element);\n",
              "        const docLink = document.createElement('div');\n",
              "        docLink.innerHTML = docLinkHtml;\n",
              "        element.appendChild(docLink);\n",
              "      }\n",
              "    </script>\n",
              "  </div>\n",
              "\n",
              "\n",
              "    <div id=\"df-4feab56f-9453-4e53-8f19-b7a6388b08c0\">\n",
              "      <button class=\"colab-df-quickchart\" onclick=\"quickchart('df-4feab56f-9453-4e53-8f19-b7a6388b08c0')\"\n",
              "                title=\"Suggest charts\"\n",
              "                style=\"display:none;\">\n",
              "\n",
              "<svg xmlns=\"http://www.w3.org/2000/svg\" height=\"24px\"viewBox=\"0 0 24 24\"\n",
              "     width=\"24px\">\n",
              "    <g>\n",
              "        <path d=\"M19 3H5c-1.1 0-2 .9-2 2v14c0 1.1.9 2 2 2h14c1.1 0 2-.9 2-2V5c0-1.1-.9-2-2-2zM9 17H7v-7h2v7zm4 0h-2V7h2v10zm4 0h-2v-4h2v4z\"/>\n",
              "    </g>\n",
              "</svg>\n",
              "      </button>\n",
              "\n",
              "<style>\n",
              "  .colab-df-quickchart {\n",
              "      --bg-color: #E8F0FE;\n",
              "      --fill-color: #1967D2;\n",
              "      --hover-bg-color: #E2EBFA;\n",
              "      --hover-fill-color: #174EA6;\n",
              "      --disabled-fill-color: #AAA;\n",
              "      --disabled-bg-color: #DDD;\n",
              "  }\n",
              "\n",
              "  [theme=dark] .colab-df-quickchart {\n",
              "      --bg-color: #3B4455;\n",
              "      --fill-color: #D2E3FC;\n",
              "      --hover-bg-color: #434B5C;\n",
              "      --hover-fill-color: #FFFFFF;\n",
              "      --disabled-bg-color: #3B4455;\n",
              "      --disabled-fill-color: #666;\n",
              "  }\n",
              "\n",
              "  .colab-df-quickchart {\n",
              "    background-color: var(--bg-color);\n",
              "    border: none;\n",
              "    border-radius: 50%;\n",
              "    cursor: pointer;\n",
              "    display: none;\n",
              "    fill: var(--fill-color);\n",
              "    height: 32px;\n",
              "    padding: 0;\n",
              "    width: 32px;\n",
              "  }\n",
              "\n",
              "  .colab-df-quickchart:hover {\n",
              "    background-color: var(--hover-bg-color);\n",
              "    box-shadow: 0 1px 2px rgba(60, 64, 67, 0.3), 0 1px 3px 1px rgba(60, 64, 67, 0.15);\n",
              "    fill: var(--button-hover-fill-color);\n",
              "  }\n",
              "\n",
              "  .colab-df-quickchart-complete:disabled,\n",
              "  .colab-df-quickchart-complete:disabled:hover {\n",
              "    background-color: var(--disabled-bg-color);\n",
              "    fill: var(--disabled-fill-color);\n",
              "    box-shadow: none;\n",
              "  }\n",
              "\n",
              "  .colab-df-spinner {\n",
              "    border: 2px solid var(--fill-color);\n",
              "    border-color: transparent;\n",
              "    border-bottom-color: var(--fill-color);\n",
              "    animation:\n",
              "      spin 1s steps(1) infinite;\n",
              "  }\n",
              "\n",
              "  @keyframes spin {\n",
              "    0% {\n",
              "      border-color: transparent;\n",
              "      border-bottom-color: var(--fill-color);\n",
              "      border-left-color: var(--fill-color);\n",
              "    }\n",
              "    20% {\n",
              "      border-color: transparent;\n",
              "      border-left-color: var(--fill-color);\n",
              "      border-top-color: var(--fill-color);\n",
              "    }\n",
              "    30% {\n",
              "      border-color: transparent;\n",
              "      border-left-color: var(--fill-color);\n",
              "      border-top-color: var(--fill-color);\n",
              "      border-right-color: var(--fill-color);\n",
              "    }\n",
              "    40% {\n",
              "      border-color: transparent;\n",
              "      border-right-color: var(--fill-color);\n",
              "      border-top-color: var(--fill-color);\n",
              "    }\n",
              "    60% {\n",
              "      border-color: transparent;\n",
              "      border-right-color: var(--fill-color);\n",
              "    }\n",
              "    80% {\n",
              "      border-color: transparent;\n",
              "      border-right-color: var(--fill-color);\n",
              "      border-bottom-color: var(--fill-color);\n",
              "    }\n",
              "    90% {\n",
              "      border-color: transparent;\n",
              "      border-bottom-color: var(--fill-color);\n",
              "    }\n",
              "  }\n",
              "</style>\n",
              "\n",
              "      <script>\n",
              "        async function quickchart(key) {\n",
              "          const quickchartButtonEl =\n",
              "            document.querySelector('#' + key + ' button');\n",
              "          quickchartButtonEl.disabled = true;  // To prevent multiple clicks.\n",
              "          quickchartButtonEl.classList.add('colab-df-spinner');\n",
              "          try {\n",
              "            const charts = await google.colab.kernel.invokeFunction(\n",
              "                'suggestCharts', [key], {});\n",
              "          } catch (error) {\n",
              "            console.error('Error during call to suggestCharts:', error);\n",
              "          }\n",
              "          quickchartButtonEl.classList.remove('colab-df-spinner');\n",
              "          quickchartButtonEl.classList.add('colab-df-quickchart-complete');\n",
              "        }\n",
              "        (() => {\n",
              "          let quickchartButtonEl =\n",
              "            document.querySelector('#df-4feab56f-9453-4e53-8f19-b7a6388b08c0 button');\n",
              "          quickchartButtonEl.style.display =\n",
              "            google.colab.kernel.accessAllowed ? 'block' : 'none';\n",
              "        })();\n",
              "      </script>\n",
              "    </div>\n",
              "\n",
              "  <div id=\"id_7949db4a-89eb-4ea3-96d2-8a2c868b2a56\">\n",
              "    <style>\n",
              "      .colab-df-generate {\n",
              "        background-color: #E8F0FE;\n",
              "        border: none;\n",
              "        border-radius: 50%;\n",
              "        cursor: pointer;\n",
              "        display: none;\n",
              "        fill: #1967D2;\n",
              "        height: 32px;\n",
              "        padding: 0 0 0 0;\n",
              "        width: 32px;\n",
              "      }\n",
              "\n",
              "      .colab-df-generate:hover {\n",
              "        background-color: #E2EBFA;\n",
              "        box-shadow: 0px 1px 2px rgba(60, 64, 67, 0.3), 0px 1px 3px 1px rgba(60, 64, 67, 0.15);\n",
              "        fill: #174EA6;\n",
              "      }\n",
              "\n",
              "      [theme=dark] .colab-df-generate {\n",
              "        background-color: #3B4455;\n",
              "        fill: #D2E3FC;\n",
              "      }\n",
              "\n",
              "      [theme=dark] .colab-df-generate:hover {\n",
              "        background-color: #434B5C;\n",
              "        box-shadow: 0px 1px 3px 1px rgba(0, 0, 0, 0.15);\n",
              "        filter: drop-shadow(0px 1px 2px rgba(0, 0, 0, 0.3));\n",
              "        fill: #FFFFFF;\n",
              "      }\n",
              "    </style>\n",
              "    <button class=\"colab-df-generate\" onclick=\"generateWithVariable('top_5_batsmen')\"\n",
              "            title=\"Generate code using this dataframe.\"\n",
              "            style=\"display:none;\">\n",
              "\n",
              "  <svg xmlns=\"http://www.w3.org/2000/svg\" height=\"24px\"viewBox=\"0 0 24 24\"\n",
              "       width=\"24px\">\n",
              "    <path d=\"M7,19H8.4L18.45,9,17,7.55,7,17.6ZM5,21V16.75L18.45,3.32a2,2,0,0,1,2.83,0l1.4,1.43a1.91,1.91,0,0,1,.58,1.4,1.91,1.91,0,0,1-.58,1.4L9.25,21ZM18.45,9,17,7.55Zm-12,3A5.31,5.31,0,0,0,4.9,8.1,5.31,5.31,0,0,0,1,6.5,5.31,5.31,0,0,0,4.9,4.9,5.31,5.31,0,0,0,6.5,1,5.31,5.31,0,0,0,8.1,4.9,5.31,5.31,0,0,0,12,6.5,5.46,5.46,0,0,0,6.5,12Z\"/>\n",
              "  </svg>\n",
              "    </button>\n",
              "    <script>\n",
              "      (() => {\n",
              "      const buttonEl =\n",
              "        document.querySelector('#id_7949db4a-89eb-4ea3-96d2-8a2c868b2a56 button.colab-df-generate');\n",
              "      buttonEl.style.display =\n",
              "        google.colab.kernel.accessAllowed ? 'block' : 'none';\n",
              "\n",
              "      buttonEl.onclick = () => {\n",
              "        google.colab.notebook.generateWithVariable('top_5_batsmen');\n",
              "      }\n",
              "      })();\n",
              "    </script>\n",
              "  </div>\n",
              "\n",
              "    </div>\n",
              "  </div>\n"
            ],
            "application/vnd.google.colaboratory.intrinsic+json": {
              "type": "dataframe",
              "variable_name": "top_5_batsmen",
              "summary": "{\n  \"name\": \"top_5_batsmen\",\n  \"rows\": 82,\n  \"fields\": [\n    {\n      \"column\": \"striker\",\n      \"properties\": {\n        \"dtype\": \"string\",\n        \"num_unique_values\": 82,\n        \"samples\": [\n          \"Suryakumar Yadav\",\n          \"Shreyas Iyer\",\n          \"Rahul Tewatia\"\n        ],\n        \"semantic_type\": \"\",\n        \"description\": \"\"\n      }\n    },\n    {\n      \"column\": \"runs\",\n      \"properties\": {\n        \"dtype\": \"number\",\n        \"std\": 48,\n        \"min\": 0,\n        \"max\": 202,\n        \"num_unique_values\": 51,\n        \"samples\": [\n          29,\n          18,\n          1\n        ],\n        \"semantic_type\": \"\",\n        \"description\": \"\"\n      }\n    },\n    {\n      \"column\": \"balls\",\n      \"properties\": {\n        \"dtype\": \"number\",\n        \"std\": 25,\n        \"min\": 1,\n        \"max\": 106,\n        \"num_unique_values\": 52,\n        \"samples\": [\n          54,\n          4,\n          1\n        ],\n        \"semantic_type\": \"\",\n        \"description\": \"\"\n      }\n    },\n    {\n      \"column\": \"sr\",\n      \"properties\": {\n        \"dtype\": \"number\",\n        \"std\": 70.55176935097006,\n        \"min\": 0.0,\n        \"max\": 350.0,\n        \"num_unique_values\": 74,\n        \"samples\": [\n          157.57575757575756,\n          63.63636363636363,\n          182.85714285714286\n        ],\n        \"semantic_type\": \"\",\n        \"description\": \"\"\n      }\n    },\n    {\n      \"column\": \"death_impact\",\n      \"properties\": {\n        \"dtype\": \"number\",\n        \"std\": 192.62130041426266,\n        \"min\": 0.0,\n        \"max\": 796.566037735849,\n        \"num_unique_values\": 78,\n        \"samples\": [\n          347.0701754385965,\n          683.5079365079365,\n          278.0909090909091\n        ],\n        \"semantic_type\": \"\",\n        \"description\": \"\"\n      }\n    },\n    {\n      \"column\": \"vs_top_impact\",\n      \"properties\": {\n        \"dtype\": \"number\",\n        \"std\": 103.81552327830619,\n        \"min\": 0.0,\n        \"max\": 435.74074074074076,\n        \"num_unique_values\": 53,\n        \"samples\": [\n          53.0,\n          138.0,\n          0.0\n        ],\n        \"semantic_type\": \"\",\n        \"description\": \"\"\n      }\n    },\n    {\n      \"column\": \"DDI\",\n      \"properties\": {\n        \"dtype\": \"number\",\n        \"std\": 153.06284360356545,\n        \"min\": 0.0,\n        \"max\": 609.1777777777777,\n        \"num_unique_values\": 78,\n        \"samples\": [\n          308.3491228070175,\n          609.1777777777777,\n          305.06363636363636\n        ],\n        \"semantic_type\": \"\",\n        \"description\": \"\"\n      }\n    }\n  ]\n}"
            }
          },
          "metadata": {},
          "execution_count": 14
        }
      ]
    },
    {
      "cell_type": "code",
      "source": [],
      "metadata": {
        "id": "MhmkYs-FUDEi"
      },
      "execution_count": null,
      "outputs": []
    },
    {
      "cell_type": "code",
      "source": [],
      "metadata": {
        "id": "bxhP33iJUDHd"
      },
      "execution_count": null,
      "outputs": []
    },
    {
      "cell_type": "code",
      "source": [],
      "metadata": {
        "id": "a_h2u_UkUDKU"
      },
      "execution_count": null,
      "outputs": []
    },
    {
      "cell_type": "code",
      "source": [],
      "metadata": {
        "id": "BRgagv5kUDNi"
      },
      "execution_count": null,
      "outputs": []
    },
    {
      "cell_type": "code",
      "source": [],
      "metadata": {
        "id": "Hm_FT-PNUDQb"
      },
      "execution_count": null,
      "outputs": []
    },
    {
      "cell_type": "code",
      "source": [],
      "metadata": {
        "id": "j1N-XErNUDTZ"
      },
      "execution_count": null,
      "outputs": []
    },
    {
      "cell_type": "code",
      "source": [],
      "metadata": {
        "id": "ZKGSUV8hUDWG"
      },
      "execution_count": null,
      "outputs": []
    },
    {
      "cell_type": "code",
      "source": [],
      "metadata": {
        "id": "8qBnCdWGUDZE"
      },
      "execution_count": null,
      "outputs": []
    },
    {
      "cell_type": "code",
      "source": [],
      "metadata": {
        "id": "whhTyp3jUDbz"
      },
      "execution_count": null,
      "outputs": []
    },
    {
      "cell_type": "code",
      "source": [],
      "metadata": {
        "id": "LopV1ayQUDes"
      },
      "execution_count": null,
      "outputs": []
    },
    {
      "cell_type": "code",
      "source": [],
      "metadata": {
        "id": "INtruDrnUDh9"
      },
      "execution_count": null,
      "outputs": []
    },
    {
      "cell_type": "code",
      "source": [],
      "metadata": {
        "id": "oHuySLiJUDk7"
      },
      "execution_count": null,
      "outputs": []
    },
    {
      "cell_type": "code",
      "source": [],
      "metadata": {
        "id": "iUfBCvsoUDnu"
      },
      "execution_count": null,
      "outputs": []
    },
    {
      "cell_type": "code",
      "source": [],
      "metadata": {
        "id": "9ZEhnNQ7UDq3"
      },
      "execution_count": null,
      "outputs": []
    },
    {
      "cell_type": "code",
      "source": [],
      "metadata": {
        "id": "CPPUModbUDtp"
      },
      "execution_count": null,
      "outputs": []
    },
    {
      "cell_type": "code",
      "source": [],
      "metadata": {
        "id": "TBpMDZ1MUDws"
      },
      "execution_count": null,
      "outputs": []
    },
    {
      "cell_type": "code",
      "source": [],
      "metadata": {
        "id": "KzbK1SnqUDzo"
      },
      "execution_count": null,
      "outputs": []
    },
    {
      "cell_type": "code",
      "source": [],
      "metadata": {
        "id": "Kuuwa6ChUD22"
      },
      "execution_count": null,
      "outputs": []
    },
    {
      "cell_type": "code",
      "source": [],
      "metadata": {
        "id": "9PhaWrr5UD5h"
      },
      "execution_count": null,
      "outputs": []
    },
    {
      "cell_type": "code",
      "source": [],
      "metadata": {
        "id": "8m-NPZvXUD8N"
      },
      "execution_count": null,
      "outputs": []
    },
    {
      "cell_type": "code",
      "source": [],
      "metadata": {
        "id": "H-sh3P8XUD_O"
      },
      "execution_count": null,
      "outputs": []
    },
    {
      "cell_type": "code",
      "source": [],
      "metadata": {
        "id": "xndrYNMwUEB_"
      },
      "execution_count": null,
      "outputs": []
    },
    {
      "cell_type": "code",
      "source": [],
      "metadata": {
        "id": "arTPwcdUUEFl"
      },
      "execution_count": null,
      "outputs": []
    },
    {
      "cell_type": "code",
      "source": [],
      "metadata": {
        "id": "yIJkTeP8UEJI"
      },
      "execution_count": null,
      "outputs": []
    },
    {
      "cell_type": "code",
      "source": [],
      "metadata": {
        "id": "ZaJW8nvwUEMo"
      },
      "execution_count": null,
      "outputs": []
    },
    {
      "cell_type": "code",
      "source": [],
      "metadata": {
        "id": "fC50jDyoUEU-"
      },
      "execution_count": null,
      "outputs": []
    },
    {
      "cell_type": "code",
      "source": [],
      "metadata": {
        "id": "TSwj8XFcUEX-"
      },
      "execution_count": null,
      "outputs": []
    },
    {
      "cell_type": "code",
      "source": [],
      "metadata": {
        "id": "Gts3vS_bUEbb"
      },
      "execution_count": null,
      "outputs": []
    },
    {
      "cell_type": "code",
      "source": [],
      "metadata": {
        "id": "RPgZbBAYUEfG"
      },
      "execution_count": null,
      "outputs": []
    },
    {
      "cell_type": "code",
      "source": [],
      "metadata": {
        "id": "LsJf8Mg3UElE"
      },
      "execution_count": null,
      "outputs": []
    },
    {
      "cell_type": "code",
      "source": [],
      "metadata": {
        "id": "r3kHo2nWUEoA"
      },
      "execution_count": null,
      "outputs": []
    },
    {
      "cell_type": "code",
      "source": [],
      "metadata": {
        "id": "tO_WH5sfUErH"
      },
      "execution_count": null,
      "outputs": []
    },
    {
      "cell_type": "code",
      "source": [],
      "metadata": {
        "id": "Kpa6t3i7UEuD"
      },
      "execution_count": null,
      "outputs": []
    },
    {
      "cell_type": "code",
      "source": [],
      "metadata": {
        "id": "3T7UP16YUExB"
      },
      "execution_count": null,
      "outputs": []
    },
    {
      "cell_type": "code",
      "source": [],
      "metadata": {
        "id": "86NYOEDtUE0A"
      },
      "execution_count": null,
      "outputs": []
    },
    {
      "cell_type": "code",
      "source": [],
      "metadata": {
        "id": "n0QrOeItUE2o"
      },
      "execution_count": null,
      "outputs": []
    },
    {
      "cell_type": "code",
      "source": [],
      "metadata": {
        "id": "4K5nXweCUE5Z"
      },
      "execution_count": null,
      "outputs": []
    },
    {
      "cell_type": "code",
      "source": [],
      "metadata": {
        "id": "c3jHJtgZUE8G"
      },
      "execution_count": null,
      "outputs": []
    },
    {
      "cell_type": "code",
      "source": [],
      "metadata": {
        "id": "j_wDM_QmUE_Y"
      },
      "execution_count": null,
      "outputs": []
    },
    {
      "cell_type": "code",
      "source": [],
      "metadata": {
        "id": "lmGfAG-sUFCG"
      },
      "execution_count": null,
      "outputs": []
    },
    {
      "cell_type": "code",
      "source": [],
      "metadata": {
        "id": "UIMhyo8UUFFO"
      },
      "execution_count": null,
      "outputs": []
    },
    {
      "cell_type": "code",
      "source": [],
      "metadata": {
        "id": "Yn1K9wReUFIE"
      },
      "execution_count": null,
      "outputs": []
    },
    {
      "cell_type": "code",
      "source": [],
      "metadata": {
        "id": "pGF3nsEhUFLl"
      },
      "execution_count": null,
      "outputs": []
    },
    {
      "cell_type": "code",
      "source": [],
      "metadata": {
        "id": "stC4psSXUFPd"
      },
      "execution_count": null,
      "outputs": []
    },
    {
      "cell_type": "code",
      "source": [],
      "metadata": {
        "id": "t3iEiXrXUFSn"
      },
      "execution_count": null,
      "outputs": []
    },
    {
      "cell_type": "code",
      "source": [],
      "metadata": {
        "id": "s3zo10LcUFVs"
      },
      "execution_count": null,
      "outputs": []
    },
    {
      "cell_type": "code",
      "source": [],
      "metadata": {
        "id": "NXfUk7SbUFZl"
      },
      "execution_count": null,
      "outputs": []
    },
    {
      "cell_type": "code",
      "source": [],
      "metadata": {
        "id": "idL3gVD_UFc9"
      },
      "execution_count": null,
      "outputs": []
    },
    {
      "cell_type": "code",
      "source": [],
      "metadata": {
        "id": "I1b0VH1nUFjP"
      },
      "execution_count": null,
      "outputs": []
    },
    {
      "cell_type": "code",
      "source": [],
      "metadata": {
        "id": "N0ywdP2WUFpd"
      },
      "execution_count": null,
      "outputs": []
    }
  ]
}